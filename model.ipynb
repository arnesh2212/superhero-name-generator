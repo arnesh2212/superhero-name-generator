{
 "cells": [
  {
   "cell_type": "code",
   "execution_count": 10,
   "id": "6f3970ce-d5fd-4537-949f-a402a451219e",
   "metadata": {},
   "outputs": [],
   "source": [
    "import numpy as np\n",
    "import tensorflow \n",
    "from tensorflow import keras\n"
   ]
  },
  {
   "cell_type": "code",
   "execution_count": 11,
   "id": "51f31e11-16bd-4d97-ab16-fba412e8347e",
   "metadata": {},
   "outputs": [
    {
     "name": "stdout",
     "output_type": "stream",
     "text": [
      "jumpa\t\n",
      "doctor fate\t\n",
      "starlight\t\n",
      "isildur\t\n",
      "lasher\t\n",
      "varvara\t\n",
      "the target\t\n",
      "axel\t\n",
      "battra\t\n",
      "changeling\t\n",
      "pyrrh\n"
     ]
    }
   ],
   "source": [
    "with open(\"superheroes.txt\" , \"r\") as f:\n",
    "    data = f.read()\n",
    "\n",
    "    \n",
    "print(data[:100])"
   ]
  },
  {
   "cell_type": "code",
   "execution_count": 12,
   "id": "cf7202e6-8bd0-4852-9487-66fb36a05d5c",
   "metadata": {},
   "outputs": [],
   "source": [
    "tokenizer = keras.preprocessing.text.Tokenizer(filters = '!\"#?,$%().;{[]}\\|+-' ,split = '\\n')"
   ]
  },
  {
   "cell_type": "code",
   "execution_count": 13,
   "id": "ccc4b1b3-898d-49fb-a358-2d705d17a69a",
   "metadata": {},
   "outputs": [],
   "source": [
    "import io\n",
    "import json\n",
    "\n",
    "tokenizer.fit_on_texts(data)\n",
    "tokenizer_json = tokenizer.to_json()\n",
    "with io.open('tokenizer.json', 'w', encoding='utf-8') as f:\n",
    "    f.write(json.dumps(tokenizer_json, ensure_ascii=False))\n",
    "char_to_index = tokenizer.word_index\n",
    "index_to_char = dict((v,k) for k,v in char_to_index.items())\n"
   ]
  },
  {
   "cell_type": "code",
   "execution_count": 14,
   "id": "a6682ecc-87d3-4519-9917-c967268b5b62",
   "metadata": {},
   "outputs": [
    {
     "name": "stdout",
     "output_type": "stream",
     "text": [
      "{1: '\\t', 2: 'a', 3: 'e', 4: 'r', 5: 'o', 6: 'n', 7: 'i', 8: ' ', 9: 't', 10: 's', 11: 'l', 12: 'm', 13: 'h', 14: 'd', 15: 'c', 16: 'u', 17: 'g', 18: 'k', 19: 'b', 20: 'p', 21: 'y', 22: 'w', 23: 'f', 24: 'v', 25: 'j', 26: 'z', 27: 'x', 28: 'q'}\n"
     ]
    }
   ],
   "source": [
    "print(index_to_char)"
   ]
  },
  {
   "cell_type": "code",
   "execution_count": 15,
   "id": "bf6e8394-0d48-46c9-ba64-595ead65a7de",
   "metadata": {},
   "outputs": [
    {
     "data": {
      "text/plain": [
       "['jumpa\\t',\n",
       " 'doctor fate\\t',\n",
       " 'starlight\\t',\n",
       " 'isildur\\t',\n",
       " 'lasher\\t',\n",
       " 'varvara\\t',\n",
       " 'the target\\t',\n",
       " 'axel\\t',\n",
       " 'battra\\t',\n",
       " 'changeling\\t']"
      ]
     },
     "execution_count": 15,
     "metadata": {},
     "output_type": "execute_result"
    }
   ],
   "source": [
    "names = data.splitlines()\n",
    "names[:10]"
   ]
  },
  {
   "cell_type": "code",
   "execution_count": 16,
   "id": "159cbd46-5492-47b4-84d0-0cb225cef6a7",
   "metadata": {},
   "outputs": [],
   "source": [
    "def name_to_seq(name):\n",
    "    return [tokenizer.texts_to_sequences(c)[0][0] for c in name]"
   ]
  },
  {
   "cell_type": "code",
   "execution_count": 17,
   "id": "494f00b7-17c5-4156-9558-b07ac34758bb",
   "metadata": {},
   "outputs": [
    {
     "data": {
      "text/plain": [
       "[25, 16, 12, 20, 2, 1]"
      ]
     },
     "execution_count": 17,
     "metadata": {},
     "output_type": "execute_result"
    }
   ],
   "source": [
    "name_to_seq(names[0])"
   ]
  },
  {
   "cell_type": "code",
   "execution_count": 18,
   "id": "82be6cde-49e6-42b7-b041-3b1f828dcf19",
   "metadata": {},
   "outputs": [
    {
     "data": {
      "text/plain": [
       "['jumpa\\t']"
      ]
     },
     "execution_count": 18,
     "metadata": {},
     "output_type": "execute_result"
    }
   ],
   "source": [
    "def seq_to_name(seq):\n",
    "    return [''.join([index_to_char[i] for i in seq if i !=0])]\n",
    "seq_to_name([25, 16, 12, 20, 2, 1])"
   ]
  },
  {
   "cell_type": "code",
   "execution_count": 19,
   "id": "270cb2db-883d-45ed-bd55-840e3ae705d3",
   "metadata": {},
   "outputs": [],
   "source": [
    "sequences = []\n",
    "#each character must have two examples\n",
    "for name in names:\n",
    "    seq = name_to_seq(name)\n",
    "    if len(seq) >= 2:\n",
    "        sequences += [seq[:i] for i in range(2 , len(seq)+1)]\n"
   ]
  },
  {
   "cell_type": "code",
   "execution_count": 20,
   "id": "e0614ef6-2f53-48cb-be8f-f2f70b664cc4",
   "metadata": {},
   "outputs": [
    {
     "name": "stdout",
     "output_type": "stream",
     "text": [
      "[[25, 16], [25, 16, 12], [25, 16, 12, 20], [25, 16, 12, 20, 2], [25, 16, 12, 20, 2, 1], [14, 5], [14, 5, 15], [14, 5, 15, 9], [14, 5, 15, 9, 5], [14, 5, 15, 9, 5, 4]]\n"
     ]
    }
   ],
   "source": [
    "print(sequences[:10])"
   ]
  },
  {
   "cell_type": "code",
   "execution_count": 21,
   "id": "5698354e-67a6-432d-bbf0-305a93234bd3",
   "metadata": {},
   "outputs": [],
   "source": [
    "padded_sequences = keras.preprocessing.sequence.pad_sequences(\n",
    "sequences , padding = 'pre' , maxlen = 33)"
   ]
  },
  {
   "cell_type": "code",
   "execution_count": 22,
   "id": "806ac176-9db5-4e08-b8bb-92fc478a4120",
   "metadata": {},
   "outputs": [
    {
     "data": {
      "text/plain": [
       "array([ 0,  0,  0,  0,  0,  0,  0,  0,  0,  0,  0,  0,  0,  0,  0,  0,  0,\n",
       "        0,  0,  0,  0,  0,  0,  0,  0,  0,  0,  0,  0,  0,  0, 25, 16])"
      ]
     },
     "execution_count": 22,
     "metadata": {},
     "output_type": "execute_result"
    }
   ],
   "source": [
    "\n",
    "\n",
    "padded_sequences[0]"
   ]
  },
  {
   "cell_type": "code",
   "execution_count": 23,
   "id": "b740aee6-80af-445b-8ce0-795fc8b7fe17",
   "metadata": {},
   "outputs": [],
   "source": [
    "x , y = padded_sequences[: , :-1] , padded_sequences[: , -1] #y is the last elements"
   ]
  },
  {
   "cell_type": "code",
   "execution_count": 24,
   "id": "1f11bfc5-e9f9-4d6d-91f5-6ceeeb995f12",
   "metadata": {},
   "outputs": [],
   "source": [
    "from sklearn.model_selection import train_test_split\n",
    "\n",
    "x_train , x_test , y_train , y_test = train_test_split(x,y)\n"
   ]
  },
  {
   "cell_type": "code",
   "execution_count": 25,
   "id": "babe6434-f6ab-44f1-a1a5-deeb99101812",
   "metadata": {},
   "outputs": [
    {
     "data": {
      "text/plain": [
       "29"
      ]
     },
     "execution_count": 25,
     "metadata": {},
     "output_type": "execute_result"
    }
   ],
   "source": [
    "num_chars = len(char_to_index.keys()) + 1\n",
    "num_chars\n"
   ]
  },
  {
   "cell_type": "code",
   "execution_count": 26,
   "id": "b8c315a3-79ad-43b1-8503-baa648a794c6",
   "metadata": {},
   "outputs": [
    {
     "name": "stdout",
     "output_type": "stream",
     "text": [
      "Model: \"sequential\"\n",
      "_________________________________________________________________\n",
      "Layer (type)                 Output Shape              Param #   \n",
      "=================================================================\n",
      "embedding (Embedding)        (None, 32, 12)            348       \n",
      "_________________________________________________________________\n",
      "conv1d (Conv1D)              (None, 32, 64)            3904      \n",
      "_________________________________________________________________\n",
      "max_pooling1d (MaxPooling1D) (None, 16, 64)            0         \n",
      "_________________________________________________________________\n",
      "lstm (LSTM)                  (None, 16, 32)            12416     \n",
      "_________________________________________________________________\n",
      "lstm_1 (LSTM)                (None, 32)                8320      \n",
      "_________________________________________________________________\n",
      "dense (Dense)                (None, 29)                957       \n",
      "=================================================================\n",
      "Total params: 25,945\n",
      "Trainable params: 25,945\n",
      "Non-trainable params: 0\n",
      "_________________________________________________________________\n"
     ]
    }
   ],
   "source": [
    "model = keras.Sequential()\n",
    "model.add(keras.layers.Embedding(num_chars , 12 , input_length = 32))\n",
    "model.add(keras.layers.Conv1D(64 , 5,strides = 1 ,activation = \"tanh\" , padding = 'causal'))\n",
    "model.add(keras.layers.MaxPool1D(2))\n",
    "model.add(keras.layers.LSTM(32 , return_sequences = True))\n",
    "model.add(keras.layers.LSTM(32))\n",
    "model.add(keras.layers.Dense(num_chars , activation = \"softmax\"))\n",
    "\n",
    "model.compile(loss = \"sparse_categorical_crossentropy\" , optimizer = 'adam' , metrics = ['accuracy'])\n",
    "model.summary()"
   ]
  },
  {
   "cell_type": "code",
   "execution_count": 27,
   "id": "a6740c39-f166-4f7e-9436-b33e1d08e976",
   "metadata": {},
   "outputs": [
    {
     "name": "stdout",
     "output_type": "stream",
     "text": [
      "Epoch 1/50\n",
      "2070/2070 [==============================] - 25s 8ms/step - loss: 2.8226 - accuracy: 0.1666 - val_loss: 2.6352 - val_accuracy: 0.2100\n",
      "Epoch 2/50\n",
      "2070/2070 [==============================] - 15s 7ms/step - loss: 2.5799 - accuracy: 0.2223 - val_loss: 2.5417 - val_accuracy: 0.2293\n",
      "Epoch 3/50\n",
      "2070/2070 [==============================] - 15s 7ms/step - loss: 2.5065 - accuracy: 0.2413 - val_loss: 2.4955 - val_accuracy: 0.2448\n",
      "Epoch 4/50\n",
      "2070/2070 [==============================] - 16s 8ms/step - loss: 2.4602 - accuracy: 0.2593 - val_loss: 2.4544 - val_accuracy: 0.2584\n",
      "Epoch 5/50\n",
      "2070/2070 [==============================] - 16s 8ms/step - loss: 2.4236 - accuracy: 0.2692 - val_loss: 2.4212 - val_accuracy: 0.2702\n",
      "Epoch 6/50\n",
      "2070/2070 [==============================] - 16s 8ms/step - loss: 2.3889 - accuracy: 0.2764 - val_loss: 2.3915 - val_accuracy: 0.2797\n",
      "Epoch 7/50\n",
      "2070/2070 [==============================] - 16s 8ms/step - loss: 2.3581 - accuracy: 0.2862 - val_loss: 2.3697 - val_accuracy: 0.2822\n",
      "Epoch 8/50\n",
      "2070/2070 [==============================] - 16s 8ms/step - loss: 2.3313 - accuracy: 0.2935 - val_loss: 2.3467 - val_accuracy: 0.2887\n",
      "Epoch 9/50\n",
      "2070/2070 [==============================] - 16s 8ms/step - loss: 2.3059 - accuracy: 0.3016 - val_loss: 2.3360 - val_accuracy: 0.2934\n",
      "Epoch 10/50\n",
      "2070/2070 [==============================] - 16s 8ms/step - loss: 2.2832 - accuracy: 0.3092 - val_loss: 2.3190 - val_accuracy: 0.2996\n",
      "Epoch 11/50\n",
      "2070/2070 [==============================] - 15s 7ms/step - loss: 2.2603 - accuracy: 0.3159 - val_loss: 2.2989 - val_accuracy: 0.3045\n",
      "Epoch 12/50\n",
      "2070/2070 [==============================] - 16s 7ms/step - loss: 2.2393 - accuracy: 0.3225 - val_loss: 2.2883 - val_accuracy: 0.3090\n",
      "Epoch 13/50\n",
      "2070/2070 [==============================] - 15s 7ms/step - loss: 2.2211 - accuracy: 0.3283 - val_loss: 2.2778 - val_accuracy: 0.3147\n",
      "Epoch 14/50\n",
      "2070/2070 [==============================] - 15s 7ms/step - loss: 2.2011 - accuracy: 0.3348 - val_loss: 2.2671 - val_accuracy: 0.3193\n",
      "Epoch 15/50\n",
      "2070/2070 [==============================] - 15s 7ms/step - loss: 2.1844 - accuracy: 0.3393 - val_loss: 2.2607 - val_accuracy: 0.3230\n",
      "Epoch 16/50\n",
      "2070/2070 [==============================] - 15s 7ms/step - loss: 2.1675 - accuracy: 0.3439 - val_loss: 2.2589 - val_accuracy: 0.3179\n"
     ]
    }
   ],
   "source": [
    "history = model.fit(x_train , y_train , epochs = 50 , validation_data = (x_test , y_test) , callbacks = [ keras.callbacks.EarlyStopping(monitor = 'val_accuracy' , patience = 1) ])\n",
    "model.save('model.h5')"
   ]
  },
  {
   "cell_type": "code",
   "execution_count": 28,
   "id": "591798a0-308d-4482-957d-83885fdbd669",
   "metadata": {},
   "outputs": [],
   "source": [
    "import numpy as np\n",
    "import tensorflow as tf\n",
    "from tensorflow import keras\n",
    "import json\n",
    "\n",
    "with open(\"superheroes.txt\" , \"r\") as f:\n",
    "    data = f.read()\n",
    "\n",
    "with open('tokenizer.json') as f:\n",
    "    data1 = json.load(f)\n",
    "    tokenizer = tf.keras.preprocessing.text.tokenizer_from_json(data1)\n",
    "    \n",
    "\n",
    "\n",
    "\n",
    "char_to_index = tokenizer.word_index\n",
    "index_to_char = dict((v,k) for k,v in char_to_index.items())\n",
    "\n",
    "names = data.splitlines()\n",
    "\n",
    "def name_to_seq(name):\n",
    "    return [tokenizer.texts_to_sequences(c)[0][0] for c in name]\n",
    "def seq_to_name(seq):\n",
    "    return [''.join([index_to_char[i] for i in seq if i !=0])]\n",
    "\n",
    "\n",
    "\n",
    "\n",
    "model = keras.models.load_model(\"model.h5\")\n",
    "def generate_names(seed):\n",
    "    for i in range(1,40):\n",
    "        seq = name_to_seq(seed)\n",
    "        padded = keras.preprocessing.sequence.pad_sequences([seq] , maxlen = 32 , padding = 'pre')\n",
    "        pred =  model.predict(padded)[0]\n",
    "        pred_char = index_to_char[np.argmax(pred)]\n",
    "        seed += pred_char\n",
    "        \n",
    "        if pred_char == '\\t':\n",
    "            break\n",
    "    return seed"
   ]
  },
  {
   "cell_type": "code",
   "execution_count": 33,
   "id": "1f9eb06e-1990-46c4-baa2-a7ade3cb4ba0",
   "metadata": {},
   "outputs": [
    {
     "name": "stdout",
     "output_type": "stream",
     "text": [
      "jhkina\t\n"
     ]
    }
   ],
   "source": [
    "generate_names('jhki')"
   ]
  },
  {
   "cell_type": "code",
   "execution_count": null,
   "id": "aacf35f2-b4e8-4fd2-93e8-de64d96ce194",
   "metadata": {},
   "outputs": [],
   "source": []
  }
 ],
 "metadata": {
  "kernelspec": {
   "display_name": "ai",
   "language": "python",
   "name": "ai"
  },
  "language_info": {
   "codemirror_mode": {
    "name": "ipython",
    "version": 3
   },
   "file_extension": ".py",
   "mimetype": "text/x-python",
   "name": "python",
   "nbconvert_exporter": "python",
   "pygments_lexer": "ipython3",
   "version": "3.9.4"
  }
 },
 "nbformat": 4,
 "nbformat_minor": 5
}
